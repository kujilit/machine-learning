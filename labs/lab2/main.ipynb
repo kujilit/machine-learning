{
 "cells": [
  {
   "cell_type": "code",
   "execution_count": 170,
   "metadata": {},
   "outputs": [
    {
     "data": {
      "text/html": [
       "<div>\n",
       "<style scoped>\n",
       "    .dataframe tbody tr th:only-of-type {\n",
       "        vertical-align: middle;\n",
       "    }\n",
       "\n",
       "    .dataframe tbody tr th {\n",
       "        vertical-align: top;\n",
       "    }\n",
       "\n",
       "    .dataframe thead th {\n",
       "        text-align: right;\n",
       "    }\n",
       "</style>\n",
       "<table border=\"1\" class=\"dataframe\">\n",
       "  <thead>\n",
       "    <tr style=\"text-align: right;\">\n",
       "      <th></th>\n",
       "      <th>district</th>\n",
       "      <th>x1</th>\n",
       "      <th>x2</th>\n",
       "      <th>x3</th>\n",
       "      <th>x4</th>\n",
       "      <th>x5</th>\n",
       "      <th>x6</th>\n",
       "    </tr>\n",
       "  </thead>\n",
       "  <tbody>\n",
       "    <tr>\n",
       "      <th>0</th>\n",
       "      <td>Белгородская область</td>\n",
       "      <td>7777</td>\n",
       "      <td>14918</td>\n",
       "      <td>2825</td>\n",
       "      <td>2009</td>\n",
       "      <td>1841</td>\n",
       "      <td>1</td>\n",
       "    </tr>\n",
       "    <tr>\n",
       "      <th>1</th>\n",
       "      <td>Брянская область</td>\n",
       "      <td>4560</td>\n",
       "      <td>10211</td>\n",
       "      <td>1538</td>\n",
       "      <td>1418</td>\n",
       "      <td>837</td>\n",
       "      <td>1</td>\n",
       "    </tr>\n",
       "    <tr>\n",
       "      <th>2</th>\n",
       "      <td>Владимирская область</td>\n",
       "      <td>5802</td>\n",
       "      <td>8902</td>\n",
       "      <td>1703</td>\n",
       "      <td>1468</td>\n",
       "      <td>1186</td>\n",
       "      <td>1</td>\n",
       "    </tr>\n",
       "    <tr>\n",
       "      <th>3</th>\n",
       "      <td>Ивановская область</td>\n",
       "      <td>4495</td>\n",
       "      <td>5649</td>\n",
       "      <td>1338</td>\n",
       "      <td>977</td>\n",
       "      <td>1288</td>\n",
       "      <td>1</td>\n",
       "    </tr>\n",
       "    <tr>\n",
       "      <th>4</th>\n",
       "      <td>Калужская область</td>\n",
       "      <td>4335</td>\n",
       "      <td>7514</td>\n",
       "      <td>1569</td>\n",
       "      <td>998</td>\n",
       "      <td>689</td>\n",
       "      <td>1</td>\n",
       "    </tr>\n",
       "    <tr>\n",
       "      <th>...</th>\n",
       "      <td>...</td>\n",
       "      <td>...</td>\n",
       "      <td>...</td>\n",
       "      <td>...</td>\n",
       "      <td>...</td>\n",
       "      <td>...</td>\n",
       "      <td>...</td>\n",
       "    </tr>\n",
       "    <tr>\n",
       "      <th>67</th>\n",
       "      <td>Хабаровский край</td>\n",
       "      <td>5689</td>\n",
       "      <td>10688</td>\n",
       "      <td>1877</td>\n",
       "      <td>1648</td>\n",
       "      <td>1800</td>\n",
       "      <td>8</td>\n",
       "    </tr>\n",
       "    <tr>\n",
       "      <th>68</th>\n",
       "      <td>Амурская область</td>\n",
       "      <td>2954</td>\n",
       "      <td>7211</td>\n",
       "      <td>929</td>\n",
       "      <td>977</td>\n",
       "      <td>829</td>\n",
       "      <td>8</td>\n",
       "    </tr>\n",
       "    <tr>\n",
       "      <th>69</th>\n",
       "      <td>Магаданская область</td>\n",
       "      <td>787</td>\n",
       "      <td>1215</td>\n",
       "      <td>331</td>\n",
       "      <td>202</td>\n",
       "      <td>97</td>\n",
       "      <td>8</td>\n",
       "    </tr>\n",
       "    <tr>\n",
       "      <th>70</th>\n",
       "      <td>Сахалинская область</td>\n",
       "      <td>3332</td>\n",
       "      <td>4511</td>\n",
       "      <td>792</td>\n",
       "      <td>507</td>\n",
       "      <td>131</td>\n",
       "      <td>8</td>\n",
       "    </tr>\n",
       "    <tr>\n",
       "      <th>71</th>\n",
       "      <td>Еврейская автономная область</td>\n",
       "      <td>803</td>\n",
       "      <td>1875</td>\n",
       "      <td>175</td>\n",
       "      <td>187</td>\n",
       "      <td>57</td>\n",
       "      <td>8</td>\n",
       "    </tr>\n",
       "  </tbody>\n",
       "</table>\n",
       "<p>72 rows × 7 columns</p>\n",
       "</div>"
      ],
      "text/plain": [
       "                        district    x1     x2    x3    x4    x5  x6\n",
       "0           Белгородская область  7777  14918  2825  2009  1841   1\n",
       "1               Брянская область  4560  10211  1538  1418   837   1\n",
       "2           Владимирская область  5802   8902  1703  1468  1186   1\n",
       "3             Ивановская область  4495   5649  1338   977  1288   1\n",
       "4              Калужская область  4335   7514  1569   998   689   1\n",
       "..                           ...   ...    ...   ...   ...   ...  ..\n",
       "67              Хабаровский край  5689  10688  1877  1648  1800   8\n",
       "68              Амурская область  2954   7211   929   977   829   8\n",
       "69           Магаданская область   787   1215   331   202    97   8\n",
       "70           Сахалинская область  3332   4511   792   507   131   8\n",
       "71  Еврейская автономная область   803   1875   175   187    57   8\n",
       "\n",
       "[72 rows x 7 columns]"
      ]
     },
     "metadata": {},
     "output_type": "display_data"
    }
   ],
   "source": [
    "import pandas as pd\n",
    "\n",
    "data = pd.read_csv('data.csv')\n",
    "df = data.copy()\n",
    "\n",
    "df.columns = ['district', 'x1', 'x2', 'x3', 'x4', 'x5', 'x6']\n",
    "        \n",
    "df = df.replace(\n",
    "    ['сenter', 'nw', 'south', 'caucasus', 'volga', 'ural', 'siberia', 'dv'],\n",
    "    [1, 2, 3, 4, 5, 6, 7, 8])\n",
    "\n",
    "display(df)"
   ]
  },
  {
   "cell_type": "markdown",
   "metadata": {},
   "source": [
    "Декомпозирую DataFrame в трехмерный массив"
   ]
  },
  {
   "cell_type": "code",
   "execution_count": 171,
   "metadata": {},
   "outputs": [
    {
     "data": {
      "text/plain": [
       "(72, 3)"
      ]
     },
     "metadata": {},
     "output_type": "display_data"
    }
   ],
   "source": [
    "from sklearn.decomposition import TruncatedSVD\n",
    "\n",
    "svd = TruncatedSVD(3)\n",
    "df_transformed = svd.fit_transform(df.loc[:, ['x1', 'x2', 'x3', 'x4', 'x5']])\n",
    "df_transformed = pd.DataFrame(df_transformed, columns=['x1', 'x2', 'x3'])\n",
    "\n",
    "display(df_transformed.shape)"
   ]
  },
  {
   "cell_type": "code",
   "execution_count": 172,
   "metadata": {},
   "outputs": [
    {
     "data": {
      "text/plain": [
       "<Axes: xlabel='x1', ylabel='x2'>"
      ]
     },
     "execution_count": 172,
     "metadata": {},
     "output_type": "execute_result"
    },
    {
     "data": {
      "image/png": "[encoded data removed]",
      "text/plain": [
       "<Figure size 640x480 with 1 Axes>"
      ]
     },
     "metadata": {},
     "output_type": "display_data"
    }
   ],
   "source": [
    "import seaborn as sns\n",
    "\n",
    "sns.scatterplot(data = df_transformed, x='x1', y='x2', hue='x3')"
   ]
  },
  {
   "cell_type": "markdown",
   "metadata": {},
   "source": [
    "Кластеризация K-means"
   ]
  },
  {
   "cell_type": "code",
   "execution_count": 173,
   "metadata": {},
   "outputs": [
    {
     "data": {
      "text/plain": [
       "<Axes: xlabel='x1', ylabel='x2'>"
      ]
     },
     "execution_count": 173,
     "metadata": {},
     "output_type": "execute_result"
    },
    {
     "data": {
      "image/png": "[encoded data removed]",
      "text/plain": [
       "<Figure size 640x480 with 1 Axes>"
      ]
     },
     "metadata": {},
     "output_type": "display_data"
    }
   ],
   "source": [
    "from sklearn.cluster import KMeans\n",
    "\n",
    "kmeans = KMeans(n_clusters=8, n_init='auto')\n",
    "kmeans.fit(df_transformed)\n",
    "\n",
    "sns.scatterplot(data=df_transformed, x='x1', y='x2', hue=kmeans.labels_)"
   ]
  },
  {
   "cell_type": "markdown",
   "metadata": {},
   "source": [
    "Классификация K-neighbours"
   ]
  },
  {
   "cell_type": "code",
   "execution_count": 174,
   "metadata": {},
   "outputs": [
    {
     "data": {
      "text/html": [
       "<style>#sk-container-id-7 {color: black;}#sk-container-id-7 pre{padding: 0;}#sk-container-id-7 div.sk-toggleable {background-color: white;}#sk-container-id-7 label.sk-toggleable__label {cursor: pointer;display: block;width: 100%;margin-bottom: 0;padding: 0.3em;box-sizing: border-box;text-align: center;}#sk-container-id-7 label.sk-toggleable__label-arrow:before {content: \"▸\";float: left;margin-right: 0.25em;color: #696969;}#sk-container-id-7 label.sk-toggleable__label-arrow:hover:before {color: black;}#sk-container-id-7 div.sk-estimator:hover label.sk-toggleable__label-arrow:before {color: black;}#sk-container-id-7 div.sk-toggleable__content {max-height: 0;max-width: 0;overflow: hidden;text-align: left;background-color: #f0f8ff;}#sk-container-id-7 div.sk-toggleable__content pre {margin: 0.2em;color: black;border-radius: 0.25em;background-color: #f0f8ff;}#sk-container-id-7 input.sk-toggleable__control:checked~div.sk-toggleable__content {max-height: 200px;max-width: 100%;overflow: auto;}#sk-container-id-7 input.sk-toggleable__control:checked~label.sk-toggleable__label-arrow:before {content: \"▾\";}#sk-container-id-7 div.sk-estimator input.sk-toggleable__control:checked~label.sk-toggleable__label {background-color: #d4ebff;}#sk-container-id-7 div.sk-label input.sk-toggleable__control:checked~label.sk-toggleable__label {background-color: #d4ebff;}#sk-container-id-7 input.sk-hidden--visually {border: 0;clip: rect(1px 1px 1px 1px);clip: rect(1px, 1px, 1px, 1px);height: 1px;margin: -1px;overflow: hidden;padding: 0;position: absolute;width: 1px;}#sk-container-id-7 div.sk-estimator {font-family: monospace;background-color: #f0f8ff;border: 1px dotted black;border-radius: 0.25em;box-sizing: border-box;margin-bottom: 0.5em;}#sk-container-id-7 div.sk-estimator:hover {background-color: #d4ebff;}#sk-container-id-7 div.sk-parallel-item::after {content: \"\";width: 100%;border-bottom: 1px solid gray;flex-grow: 1;}#sk-container-id-7 div.sk-label:hover label.sk-toggleable__label {background-color: #d4ebff;}#sk-container-id-7 div.sk-serial::before {content: \"\";position: absolute;border-left: 1px solid gray;box-sizing: border-box;top: 0;bottom: 0;left: 50%;z-index: 0;}#sk-container-id-7 div.sk-serial {display: flex;flex-direction: column;align-items: center;background-color: white;padding-right: 0.2em;padding-left: 0.2em;position: relative;}#sk-container-id-7 div.sk-item {position: relative;z-index: 1;}#sk-container-id-7 div.sk-parallel {display: flex;align-items: stretch;justify-content: center;background-color: white;position: relative;}#sk-container-id-7 div.sk-item::before, #sk-container-id-7 div.sk-parallel-item::before {content: \"\";position: absolute;border-left: 1px solid gray;box-sizing: border-box;top: 0;bottom: 0;left: 50%;z-index: -1;}#sk-container-id-7 div.sk-parallel-item {display: flex;flex-direction: column;z-index: 1;position: relative;background-color: white;}#sk-container-id-7 div.sk-parallel-item:first-child::after {align-self: flex-end;width: 50%;}#sk-container-id-7 div.sk-parallel-item:last-child::after {align-self: flex-start;width: 50%;}#sk-container-id-7 div.sk-parallel-item:only-child::after {width: 0;}#sk-container-id-7 div.sk-dashed-wrapped {border: 1px dashed gray;margin: 0 0.4em 0.5em 0.4em;box-sizing: border-box;padding-bottom: 0.4em;background-color: white;}#sk-container-id-7 div.sk-label label {font-family: monospace;font-weight: bold;display: inline-block;line-height: 1.2em;}#sk-container-id-7 div.sk-label-container {text-align: center;}#sk-container-id-7 div.sk-container {/* jupyter's `normalize.less` sets `[hidden] { display: none; }` but bootstrap.min.css set `[hidden] { display: none !important; }` so we also need the `!important` here to be able to override the default hidden behavior on the sphinx rendered scikit-learn.org. See: https://github.com/scikit-learn/scikit-learn/issues/21755 */display: inline-block !important;position: relative;}#sk-container-id-7 div.sk-text-repr-fallback {display: none;}</style><div id=\"sk-container-id-7\" class=\"sk-top-container\"><div class=\"sk-text-repr-fallback\"><pre>KNeighborsClassifier(n_neighbors=7)</pre><b>In a Jupyter environment, please rerun this cell to show the HTML representation or trust the notebook. <br />On GitHub, the HTML representation is unable to render, please try loading this page with nbviewer.org.</b></div><div class=\"sk-container\" hidden><div class=\"sk-item\"><div class=\"sk-estimator sk-toggleable\"><input class=\"sk-toggleable__control sk-hidden--visually\" id=\"sk-estimator-id-7\" type=\"checkbox\" checked><label for=\"sk-estimator-id-7\" class=\"sk-toggleable__label sk-toggleable__label-arrow\">KNeighborsClassifier</label><div class=\"sk-toggleable__content\"><pre>KNeighborsClassifier(n_neighbors=7)</pre></div></div></div></div></div>"
      ],
      "text/plain": [
       "KNeighborsClassifier(n_neighbors=7)"
      ]
     },
     "execution_count": 174,
     "metadata": {},
     "output_type": "execute_result"
    }
   ],
   "source": [
    "from sklearn.neighbors import KNeighborsClassifier\n",
    "\n",
    "neigh = KNeighborsClassifier(n_neighbors=7)\n",
    "neigh.fit(df.loc[:, ['x1', 'x2', 'x3', 'x4', 'x5']], df.loc[:, 'x6'])"
   ]
  },
  {
   "cell_type": "code",
   "execution_count": 175,
   "metadata": {},
   "outputs": [
    {
     "data": {
      "text/html": [
       "<div>\n",
       "<style scoped>\n",
       "    .dataframe tbody tr th:only-of-type {\n",
       "        vertical-align: middle;\n",
       "    }\n",
       "\n",
       "    .dataframe tbody tr th {\n",
       "        vertical-align: top;\n",
       "    }\n",
       "\n",
       "    .dataframe thead th {\n",
       "        text-align: right;\n",
       "    }\n",
       "</style>\n",
       "<table border=\"1\" class=\"dataframe\">\n",
       "  <thead>\n",
       "    <tr style=\"text-align: right;\">\n",
       "      <th></th>\n",
       "      <th>district</th>\n",
       "      <th>x1</th>\n",
       "      <th>x2</th>\n",
       "      <th>x3</th>\n",
       "      <th>x4</th>\n",
       "      <th>x5</th>\n",
       "      <th>x6</th>\n",
       "    </tr>\n",
       "  </thead>\n",
       "  <tbody>\n",
       "    <tr>\n",
       "      <th>62</th>\n",
       "      <td>Республика Бурятия</td>\n",
       "      <td>3377</td>\n",
       "      <td>9471</td>\n",
       "      <td>1806</td>\n",
       "      <td>1285</td>\n",
       "      <td>768</td>\n",
       "      <td>8</td>\n",
       "    </tr>\n",
       "    <tr>\n",
       "      <th>63</th>\n",
       "      <td>Республика Саха (Якутия)</td>\n",
       "      <td>6770</td>\n",
       "      <td>17212</td>\n",
       "      <td>2850</td>\n",
       "      <td>1474</td>\n",
       "      <td>1169</td>\n",
       "      <td>8</td>\n",
       "    </tr>\n",
       "    <tr>\n",
       "      <th>64</th>\n",
       "      <td>Забайкальский край</td>\n",
       "      <td>4672</td>\n",
       "      <td>11712</td>\n",
       "      <td>1550</td>\n",
       "      <td>1178</td>\n",
       "      <td>781</td>\n",
       "      <td>8</td>\n",
       "    </tr>\n",
       "    <tr>\n",
       "      <th>65</th>\n",
       "      <td>Камчатский край</td>\n",
       "      <td>2202</td>\n",
       "      <td>3129</td>\n",
       "      <td>783</td>\n",
       "      <td>341</td>\n",
       "      <td>132</td>\n",
       "      <td>8</td>\n",
       "    </tr>\n",
       "    <tr>\n",
       "      <th>66</th>\n",
       "      <td>Приморский край</td>\n",
       "      <td>6485</td>\n",
       "      <td>12822</td>\n",
       "      <td>2049</td>\n",
       "      <td>1812</td>\n",
       "      <td>2380</td>\n",
       "      <td>8</td>\n",
       "    </tr>\n",
       "    <tr>\n",
       "      <th>67</th>\n",
       "      <td>Хабаровский край</td>\n",
       "      <td>5689</td>\n",
       "      <td>10688</td>\n",
       "      <td>1877</td>\n",
       "      <td>1648</td>\n",
       "      <td>1800</td>\n",
       "      <td>8</td>\n",
       "    </tr>\n",
       "    <tr>\n",
       "      <th>68</th>\n",
       "      <td>Амурская область</td>\n",
       "      <td>2954</td>\n",
       "      <td>7211</td>\n",
       "      <td>929</td>\n",
       "      <td>977</td>\n",
       "      <td>829</td>\n",
       "      <td>8</td>\n",
       "    </tr>\n",
       "    <tr>\n",
       "      <th>69</th>\n",
       "      <td>Магаданская область</td>\n",
       "      <td>787</td>\n",
       "      <td>1215</td>\n",
       "      <td>331</td>\n",
       "      <td>202</td>\n",
       "      <td>97</td>\n",
       "      <td>8</td>\n",
       "    </tr>\n",
       "    <tr>\n",
       "      <th>70</th>\n",
       "      <td>Сахалинская область</td>\n",
       "      <td>3332</td>\n",
       "      <td>4511</td>\n",
       "      <td>792</td>\n",
       "      <td>507</td>\n",
       "      <td>131</td>\n",
       "      <td>8</td>\n",
       "    </tr>\n",
       "    <tr>\n",
       "      <th>71</th>\n",
       "      <td>Еврейская автономная область</td>\n",
       "      <td>803</td>\n",
       "      <td>1875</td>\n",
       "      <td>175</td>\n",
       "      <td>187</td>\n",
       "      <td>57</td>\n",
       "      <td>8</td>\n",
       "    </tr>\n",
       "  </tbody>\n",
       "</table>\n",
       "</div>"
      ],
      "text/plain": [
       "                        district    x1     x2    x3    x4    x5  x6\n",
       "62            Республика Бурятия  3377   9471  1806  1285   768   8\n",
       "63      Республика Саха (Якутия)  6770  17212  2850  1474  1169   8\n",
       "64            Забайкальский край  4672  11712  1550  1178   781   8\n",
       "65               Камчатский край  2202   3129   783   341   132   8\n",
       "66               Приморский край  6485  12822  2049  1812  2380   8\n",
       "67              Хабаровский край  5689  10688  1877  1648  1800   8\n",
       "68              Амурская область  2954   7211   929   977   829   8\n",
       "69           Магаданская область   787   1215   331   202    97   8\n",
       "70           Сахалинская область  3332   4511   792   507   131   8\n",
       "71  Еврейская автономная область   803   1875   175   187    57   8"
      ]
     },
     "metadata": {},
     "output_type": "display_data"
    }
   ],
   "source": [
    "dv = df.loc[df['x6'] == 8]\n",
    "\n",
    "for i in range(len(df.loc[:, 'x6'])):\n",
    "    if df['x6'][i] == 8:\n",
    "        df.drop(i, inplace=True)\n",
    "        \n",
    "display(dv)"
   ]
  },
  {
   "cell_type": "markdown",
   "metadata": {},
   "source": [
    "Результат классификации на ДФО"
   ]
  },
  {
   "cell_type": "code",
   "execution_count": 181,
   "metadata": {},
   "outputs": [
    {
     "data": {
      "text/html": [
       "<div>\n",
       "<style scoped>\n",
       "    .dataframe tbody tr th:only-of-type {\n",
       "        vertical-align: middle;\n",
       "    }\n",
       "\n",
       "    .dataframe tbody tr th {\n",
       "        vertical-align: top;\n",
       "    }\n",
       "\n",
       "    .dataframe thead th {\n",
       "        text-align: right;\n",
       "    }\n",
       "</style>\n",
       "<table border=\"1\" class=\"dataframe\">\n",
       "  <thead>\n",
       "    <tr style=\"text-align: right;\">\n",
       "      <th></th>\n",
       "      <th>district</th>\n",
       "      <th>x1</th>\n",
       "      <th>x2</th>\n",
       "      <th>x3</th>\n",
       "      <th>x4</th>\n",
       "      <th>x5</th>\n",
       "      <th>x6</th>\n",
       "    </tr>\n",
       "  </thead>\n",
       "  <tbody>\n",
       "    <tr>\n",
       "      <th>0</th>\n",
       "      <td>Республика Бурятия</td>\n",
       "      <td>3377</td>\n",
       "      <td>9471</td>\n",
       "      <td>1806</td>\n",
       "      <td>1285</td>\n",
       "      <td>768</td>\n",
       "      <td>1</td>\n",
       "    </tr>\n",
       "    <tr>\n",
       "      <th>1</th>\n",
       "      <td>Республика Саха (Якутия)</td>\n",
       "      <td>6770</td>\n",
       "      <td>17212</td>\n",
       "      <td>2850</td>\n",
       "      <td>1474</td>\n",
       "      <td>1169</td>\n",
       "      <td>3</td>\n",
       "    </tr>\n",
       "    <tr>\n",
       "      <th>2</th>\n",
       "      <td>Забайкальский край</td>\n",
       "      <td>4672</td>\n",
       "      <td>11712</td>\n",
       "      <td>1550</td>\n",
       "      <td>1178</td>\n",
       "      <td>781</td>\n",
       "      <td>1</td>\n",
       "    </tr>\n",
       "    <tr>\n",
       "      <th>3</th>\n",
       "      <td>Камчатский край</td>\n",
       "      <td>2202</td>\n",
       "      <td>3129</td>\n",
       "      <td>783</td>\n",
       "      <td>341</td>\n",
       "      <td>132</td>\n",
       "      <td>3</td>\n",
       "    </tr>\n",
       "    <tr>\n",
       "      <th>4</th>\n",
       "      <td>Приморский край</td>\n",
       "      <td>6485</td>\n",
       "      <td>12822</td>\n",
       "      <td>2049</td>\n",
       "      <td>1812</td>\n",
       "      <td>2380</td>\n",
       "      <td>1</td>\n",
       "    </tr>\n",
       "    <tr>\n",
       "      <th>5</th>\n",
       "      <td>Хабаровский край</td>\n",
       "      <td>5689</td>\n",
       "      <td>10688</td>\n",
       "      <td>1877</td>\n",
       "      <td>1648</td>\n",
       "      <td>1800</td>\n",
       "      <td>5</td>\n",
       "    </tr>\n",
       "    <tr>\n",
       "      <th>6</th>\n",
       "      <td>Амурская область</td>\n",
       "      <td>2954</td>\n",
       "      <td>7211</td>\n",
       "      <td>929</td>\n",
       "      <td>977</td>\n",
       "      <td>829</td>\n",
       "      <td>1</td>\n",
       "    </tr>\n",
       "    <tr>\n",
       "      <th>7</th>\n",
       "      <td>Магаданская область</td>\n",
       "      <td>787</td>\n",
       "      <td>1215</td>\n",
       "      <td>331</td>\n",
       "      <td>202</td>\n",
       "      <td>97</td>\n",
       "      <td>3</td>\n",
       "    </tr>\n",
       "    <tr>\n",
       "      <th>8</th>\n",
       "      <td>Сахалинская область</td>\n",
       "      <td>3332</td>\n",
       "      <td>4511</td>\n",
       "      <td>792</td>\n",
       "      <td>507</td>\n",
       "      <td>131</td>\n",
       "      <td>2</td>\n",
       "    </tr>\n",
       "    <tr>\n",
       "      <th>9</th>\n",
       "      <td>Еврейская автономная область</td>\n",
       "      <td>803</td>\n",
       "      <td>1875</td>\n",
       "      <td>175</td>\n",
       "      <td>187</td>\n",
       "      <td>57</td>\n",
       "      <td>3</td>\n",
       "    </tr>\n",
       "  </tbody>\n",
       "</table>\n",
       "</div>"
      ],
      "text/plain": [
       "                       district    x1     x2    x3    x4    x5  x6\n",
       "0            Республика Бурятия  3377   9471  1806  1285   768   1\n",
       "1      Республика Саха (Якутия)  6770  17212  2850  1474  1169   3\n",
       "2            Забайкальский край  4672  11712  1550  1178   781   1\n",
       "3               Камчатский край  2202   3129   783   341   132   3\n",
       "4               Приморский край  6485  12822  2049  1812  2380   1\n",
       "5              Хабаровский край  5689  10688  1877  1648  1800   5\n",
       "6              Амурская область  2954   7211   929   977   829   1\n",
       "7           Магаданская область   787   1215   331   202    97   3\n",
       "8           Сахалинская область  3332   4511   792   507   131   2\n",
       "9  Еврейская автономная область   803   1875   175   187    57   3"
      ]
     },
     "metadata": {},
     "output_type": "display_data"
    }
   ],
   "source": [
    "pred = neigh.predict(dv.loc[:, ['x1', 'x2', 'x3', 'x4', 'x5']])\n",
    "dv.reset_index(drop= True , inplace= True )\n",
    "\n",
    "for i in range(len(pred)):\n",
    "    dv.loc[i, 'x6'] = pred[i]\n",
    "    \n",
    "display(dv)"
   ]
  },
  {
   "cell_type": "code",
   "execution_count": 190,
   "metadata": {},
   "outputs": [
    {
     "data": {
      "image/png": "[encoded data removed]",
      "text/plain": [
       "<Figure size 640x480 with 1 Axes>"
      ]
     },
     "metadata": {},
     "output_type": "display_data"
    }
   ],
   "source": [
    "import matplotlib.pyplot as plt\n",
    "\n",
    "plt.plot(df.loc[:, ['x1', 'x2', 'x3', 'x4', 'x5']].median())\n",
    "plt.plot(dv.loc[:, ['x1', 'x2', 'x3', 'x4', 'x5']].median())\n",
    "\n",
    "plt.show()"
   ]
  },
  {
   "cell_type": "code",
   "execution_count": null,
   "metadata": {},
   "outputs": [],
   "source": []
  },
  {
   "cell_type": "code",
   "execution_count": null,
   "metadata": {},
   "outputs": [],
   "source": []
  }
 ],
 "metadata": {
  "kernelspec": {
   "display_name": "venv",
   "language": "python",
   "name": "python3"
  },
  "language_info": {
   "codemirror_mode": {
    "name": "ipython",
    "version": 3
   },
   "file_extension": ".py",
   "mimetype": "text/x-python",
   "name": "python",
   "nbconvert_exporter": "python",
   "pygments_lexer": "ipython3",
   "version": "3.8.5"
  }
 },
 "nbformat": 4,
 "nbformat_minor": 2
}
